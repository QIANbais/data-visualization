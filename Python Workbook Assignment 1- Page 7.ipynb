{
 "cells": [
  {
   "cell_type": "markdown",
   "metadata": {},
   "source": [
    "### Import Libraries"
   ]
  },
  {
   "cell_type": "code",
   "execution_count": 1,
   "metadata": {},
   "outputs": [
    {
     "data": {
      "text/plain": [
       "'C:\\\\Users\\\\97905\\\\Desktop\\\\Spring 2020\\\\ISM6419-Data Visualization\\\\Week 7'"
      ]
     },
     "execution_count": 1,
     "metadata": {},
     "output_type": "execute_result"
    }
   ],
   "source": [
    "import os\n",
    "import pandas as pd\n",
    "import matplotlib.pyplot as plt\n",
    "import numpy as np\n",
    "\n",
    "# set working directory\n",
    "os.getcwd()\n",
    "os.chdir('C:/Users/97905/Desktop/Spring 2020\\ISM6419-Data Visualization\\Week 7')\n",
    "os.getcwd()"
   ]
  },
  {
   "cell_type": "markdown",
   "metadata": {},
   "source": [
    "### Download Census Data and Load into Pandas DataFrame"
   ]
  },
  {
   "cell_type": "code",
   "execution_count": 6,
   "metadata": {},
   "outputs": [
    {
     "data": {
      "text/html": [
       "<div>\n",
       "<style scoped>\n",
       "    .dataframe tbody tr th:only-of-type {\n",
       "        vertical-align: middle;\n",
       "    }\n",
       "\n",
       "    .dataframe tbody tr th {\n",
       "        vertical-align: top;\n",
       "    }\n",
       "\n",
       "    .dataframe thead th {\n",
       "        text-align: right;\n",
       "    }\n",
       "</style>\n",
       "<table border=\"1\" class=\"dataframe\">\n",
       "  <thead>\n",
       "    <tr style=\"text-align: right;\">\n",
       "      <th></th>\n",
       "      <th>GEOID</th>\n",
       "      <th>SUMLEV</th>\n",
       "      <th>STATE</th>\n",
       "      <th>COUNTY</th>\n",
       "      <th>CBSA</th>\n",
       "      <th>CSA</th>\n",
       "      <th>NECTA</th>\n",
       "      <th>CNECTA</th>\n",
       "      <th>NAME</th>\n",
       "      <th>POP100</th>\n",
       "      <th>HU100</th>\n",
       "      <th>POP100.2000</th>\n",
       "      <th>HU100.2000</th>\n",
       "      <th>P001001</th>\n",
       "      <th>P001001.2000</th>\n",
       "    </tr>\n",
       "  </thead>\n",
       "  <tbody>\n",
       "    <tr>\n",
       "      <th>0</th>\n",
       "      <td>13001</td>\n",
       "      <td>50</td>\n",
       "      <td>13</td>\n",
       "      <td>1</td>\n",
       "      <td>99999</td>\n",
       "      <td>999</td>\n",
       "      <td>NaN</td>\n",
       "      <td>NaN</td>\n",
       "      <td>Appling County</td>\n",
       "      <td>18236</td>\n",
       "      <td>8512</td>\n",
       "      <td>17419</td>\n",
       "      <td>7854</td>\n",
       "      <td>18236</td>\n",
       "      <td>17419</td>\n",
       "    </tr>\n",
       "    <tr>\n",
       "      <th>1</th>\n",
       "      <td>13003</td>\n",
       "      <td>50</td>\n",
       "      <td>13</td>\n",
       "      <td>3</td>\n",
       "      <td>20060</td>\n",
       "      <td>999</td>\n",
       "      <td>NaN</td>\n",
       "      <td>NaN</td>\n",
       "      <td>Atkinson County</td>\n",
       "      <td>8375</td>\n",
       "      <td>3522</td>\n",
       "      <td>7609</td>\n",
       "      <td>3171</td>\n",
       "      <td>8375</td>\n",
       "      <td>7609</td>\n",
       "    </tr>\n",
       "    <tr>\n",
       "      <th>2</th>\n",
       "      <td>13005</td>\n",
       "      <td>50</td>\n",
       "      <td>13</td>\n",
       "      <td>5</td>\n",
       "      <td>99999</td>\n",
       "      <td>999</td>\n",
       "      <td>NaN</td>\n",
       "      <td>NaN</td>\n",
       "      <td>Bacon County</td>\n",
       "      <td>11096</td>\n",
       "      <td>4801</td>\n",
       "      <td>10103</td>\n",
       "      <td>4464</td>\n",
       "      <td>11096</td>\n",
       "      <td>10103</td>\n",
       "    </tr>\n",
       "    <tr>\n",
       "      <th>3</th>\n",
       "      <td>13007</td>\n",
       "      <td>50</td>\n",
       "      <td>13</td>\n",
       "      <td>7</td>\n",
       "      <td>10500</td>\n",
       "      <td>999</td>\n",
       "      <td>NaN</td>\n",
       "      <td>NaN</td>\n",
       "      <td>Baker County</td>\n",
       "      <td>3451</td>\n",
       "      <td>1652</td>\n",
       "      <td>4074</td>\n",
       "      <td>1740</td>\n",
       "      <td>3451</td>\n",
       "      <td>4074</td>\n",
       "    </tr>\n",
       "    <tr>\n",
       "      <th>4</th>\n",
       "      <td>13009</td>\n",
       "      <td>50</td>\n",
       "      <td>13</td>\n",
       "      <td>9</td>\n",
       "      <td>33300</td>\n",
       "      <td>999</td>\n",
       "      <td>NaN</td>\n",
       "      <td>NaN</td>\n",
       "      <td>Baldwin County</td>\n",
       "      <td>45720</td>\n",
       "      <td>20159</td>\n",
       "      <td>44700</td>\n",
       "      <td>17173</td>\n",
       "      <td>45720</td>\n",
       "      <td>44700</td>\n",
       "    </tr>\n",
       "  </tbody>\n",
       "</table>\n",
       "</div>"
      ],
      "text/plain": [
       "   GEOID  SUMLEV  STATE  COUNTY   CBSA  CSA  NECTA  CNECTA             NAME  \\\n",
       "0  13001      50     13       1  99999  999    NaN     NaN   Appling County   \n",
       "1  13003      50     13       3  20060  999    NaN     NaN  Atkinson County   \n",
       "2  13005      50     13       5  99999  999    NaN     NaN     Bacon County   \n",
       "3  13007      50     13       7  10500  999    NaN     NaN     Baker County   \n",
       "4  13009      50     13       9  33300  999    NaN     NaN   Baldwin County   \n",
       "\n",
       "   POP100  HU100  POP100.2000  HU100.2000  P001001  P001001.2000  \n",
       "0   18236   8512        17419        7854    18236         17419  \n",
       "1    8375   3522         7609        3171     8375          7609  \n",
       "2   11096   4801        10103        4464    11096         10103  \n",
       "3    3451   1652         4074        1740     3451          4074  \n",
       "4   45720  20159        44700       17173    45720         44700  "
      ]
     },
     "execution_count": 6,
     "metadata": {},
     "output_type": "execute_result"
    }
   ],
   "source": [
    "census_pd = pd.read_csv('FLcensusdata.csv')\n",
    "census_pd.head()"
   ]
  },
  {
   "cell_type": "markdown",
   "metadata": {},
   "source": [
    "### Exporting a Dataset to CSV"
   ]
  },
  {
   "cell_type": "code",
   "execution_count": 7,
   "metadata": {},
   "outputs": [],
   "source": [
    "names = ['Bob','Jessica','Mary','John','Mel']\n",
    "grades = [76,95,77,78,99]\n",
    "GradeList = zip(names,grades)\n",
    "df = pd.DataFrame(data = GradeList, columns=['Names','Grades'])\n",
    "df.to_csv('studentgrades.csv',index=False,header=False)"
   ]
  },
  {
   "cell_type": "code",
   "execution_count": null,
   "metadata": {},
   "outputs": [],
   "source": []
  }
 ],
 "metadata": {
  "kernelspec": {
   "display_name": "Python 3",
   "language": "python",
   "name": "python3"
  },
  "language_info": {
   "codemirror_mode": {
    "name": "ipython",
    "version": 3
   },
   "file_extension": ".py",
   "mimetype": "text/x-python",
   "name": "python",
   "nbconvert_exporter": "python",
   "pygments_lexer": "ipython3",
   "version": "3.7.3"
  }
 },
 "nbformat": 4,
 "nbformat_minor": 2
}
